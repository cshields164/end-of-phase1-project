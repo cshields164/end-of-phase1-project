{
 "cells": [
  {
   "cell_type": "code",
   "execution_count": 1,
   "metadata": {},
   "outputs": [],
   "source": [
    "from sklearn.linear_model import LinearRegression\n",
    "from sklearn.model_selection import train_test_split\n",
    "from sklearn.metrics import mean_squared_error, r2_score\n",
    "\n",
    "import pandas as pd\n",
    "import pickle\n",
    "import os"
   ]
  },
  {
   "cell_type": "code",
   "execution_count": 2,
   "metadata": {},
   "outputs": [],
   "source": [
    "# loading our dataframes\n",
    "#we will be using df_m for our sample of math class studetns and df_p for our sameple of portugees class. \n",
    "\n",
    "df_m = pd.read_csv('../data/student-mat.csv', delimiter=';')\n",
    "df_p = pd.read_csv('../data/student-por.csv', delimiter=';')"
   ]
  },
  {
   "cell_type": "code",
   "execution_count": 3,
   "metadata": {},
   "outputs": [],
   "source": [
    "#dropping outliners\n",
    "df_m = df_m.drop(df_m[(df_m['G3'] == 0) & (df_m['absences'] == 0)].index)\n",
    "df_p = df_p.drop(df_p[(df_p['G3'] == 0) & (df_p['absences'] == 0)].index)"
   ]
  },
  {
   "cell_type": "code",
   "execution_count": 4,
   "metadata": {},
   "outputs": [
    {
     "data": {
      "text/plain": [
       "Index(['school', 'sex', 'age', 'address', 'famsize', 'Pstatus', 'Medu', 'Fedu',\n",
       "       'Mjob', 'Fjob', 'reason', 'guardian', 'traveltime', 'studytime',\n",
       "       'failures', 'schoolsup', 'famsup', 'paid', 'activities', 'nursery',\n",
       "       'higher', 'internet', 'romantic', 'famrel', 'freetime', 'goout', 'Dalc',\n",
       "       'Walc', 'health', 'absences', 'G1', 'G2', 'G3'],\n",
       "      dtype='object')"
      ]
     },
     "execution_count": 4,
     "metadata": {},
     "output_type": "execute_result"
    }
   ],
   "source": [
    "# identify what columns of the dataset we can take and include in our linear regression model\n",
    "df_m.columns"
   ]
  },
  {
   "cell_type": "code",
   "execution_count": 5,
   "metadata": {},
   "outputs": [],
   "source": [
    "#first let's create a new dataframe with specific columns we want to feed our model \n",
    "#for the linear regression model we will be using G3 that represent the final grade of studetns \n",
    "\n",
    "new_df_m = df_m[['G1','G2', 'G3', 'romantic', 'sex']]\n",
    "new_df_p = df_p[['G1','G2','G3', 'romantic', 'sex']]"
   ]
  },
  {
   "cell_type": "code",
   "execution_count": 6,
   "metadata": {},
   "outputs": [],
   "source": [
    "#transforming the categorical variable column to binomial format (true and false) \n",
    "new_df_m = pd.get_dummies(new_df_m, columns=['romantic', 'sex'])\n",
    "new_df_p = pd.get_dummies(new_df_p, columns=['romantic', 'sex'])"
   ]
  },
  {
   "cell_type": "code",
   "execution_count": 7,
   "metadata": {},
   "outputs": [
    {
     "data": {
      "text/html": [
       "<div>\n",
       "<style scoped>\n",
       "    .dataframe tbody tr th:only-of-type {\n",
       "        vertical-align: middle;\n",
       "    }\n",
       "\n",
       "    .dataframe tbody tr th {\n",
       "        vertical-align: top;\n",
       "    }\n",
       "\n",
       "    .dataframe thead th {\n",
       "        text-align: right;\n",
       "    }\n",
       "</style>\n",
       "<table border=\"1\" class=\"dataframe\">\n",
       "  <thead>\n",
       "    <tr style=\"text-align: right;\">\n",
       "      <th></th>\n",
       "      <th>G1</th>\n",
       "      <th>G2</th>\n",
       "      <th>G3</th>\n",
       "      <th>romantic_no</th>\n",
       "      <th>romantic_yes</th>\n",
       "      <th>sex_F</th>\n",
       "      <th>sex_M</th>\n",
       "    </tr>\n",
       "  </thead>\n",
       "  <tbody>\n",
       "    <tr>\n",
       "      <th>0</th>\n",
       "      <td>5</td>\n",
       "      <td>6</td>\n",
       "      <td>6</td>\n",
       "      <td>True</td>\n",
       "      <td>False</td>\n",
       "      <td>True</td>\n",
       "      <td>False</td>\n",
       "    </tr>\n",
       "    <tr>\n",
       "      <th>1</th>\n",
       "      <td>5</td>\n",
       "      <td>5</td>\n",
       "      <td>6</td>\n",
       "      <td>True</td>\n",
       "      <td>False</td>\n",
       "      <td>True</td>\n",
       "      <td>False</td>\n",
       "    </tr>\n",
       "    <tr>\n",
       "      <th>2</th>\n",
       "      <td>7</td>\n",
       "      <td>8</td>\n",
       "      <td>10</td>\n",
       "      <td>True</td>\n",
       "      <td>False</td>\n",
       "      <td>True</td>\n",
       "      <td>False</td>\n",
       "    </tr>\n",
       "    <tr>\n",
       "      <th>3</th>\n",
       "      <td>15</td>\n",
       "      <td>14</td>\n",
       "      <td>15</td>\n",
       "      <td>False</td>\n",
       "      <td>True</td>\n",
       "      <td>True</td>\n",
       "      <td>False</td>\n",
       "    </tr>\n",
       "    <tr>\n",
       "      <th>4</th>\n",
       "      <td>6</td>\n",
       "      <td>10</td>\n",
       "      <td>10</td>\n",
       "      <td>True</td>\n",
       "      <td>False</td>\n",
       "      <td>True</td>\n",
       "      <td>False</td>\n",
       "    </tr>\n",
       "  </tbody>\n",
       "</table>\n",
       "</div>"
      ],
      "text/plain": [
       "   G1  G2  G3  romantic_no  romantic_yes  sex_F  sex_M\n",
       "0   5   6   6         True         False   True  False\n",
       "1   5   5   6         True         False   True  False\n",
       "2   7   8  10         True         False   True  False\n",
       "3  15  14  15        False          True   True  False\n",
       "4   6  10  10         True         False   True  False"
      ]
     },
     "execution_count": 7,
     "metadata": {},
     "output_type": "execute_result"
    }
   ],
   "source": [
    "#changes check \n",
    "new_df_m.head()"
   ]
  },
  {
   "cell_type": "code",
   "execution_count": 8,
   "metadata": {},
   "outputs": [
    {
     "name": "stdout",
     "output_type": "stream",
     "text": [
      "G1              int64\n",
      "G2              int64\n",
      "G3              int64\n",
      "romantic_no      bool\n",
      "romantic_yes     bool\n",
      "sex_F            bool\n",
      "sex_M            bool\n",
      "dtype: object\n",
      "G1              int64\n",
      "G2              int64\n",
      "G3              int64\n",
      "romantic_no      bool\n",
      "romantic_yes     bool\n",
      "sex_F            bool\n",
      "sex_M            bool\n",
      "dtype: object\n"
     ]
    }
   ],
   "source": [
    "#making sure that all columns have approprite format\n",
    "print(new_df_m.dtypes)\n",
    "print(new_df_p.dtypes)"
   ]
  },
  {
   "cell_type": "code",
   "execution_count": 9,
   "metadata": {},
   "outputs": [
    {
     "data": {
      "text/plain": [
       "Index(['G1', 'G2', 'G3', 'romantic_no', 'romantic_yes', 'sex_F', 'sex_M'], dtype='object')"
      ]
     },
     "execution_count": 9,
     "metadata": {},
     "output_type": "execute_result"
    }
   ],
   "source": [
    "new_df_m.columns"
   ]
  },
  {
   "cell_type": "code",
   "execution_count": 10,
   "metadata": {},
   "outputs": [],
   "source": [
    "#give the value to X and Y. Since we have 2 DF we will use X1 and Y1 for math class related lines and X2, Y2 for Port class\n",
    "X1 = new_df_m[['G1', 'G2', 'romantic_no', 'romantic_yes', 'sex_F', 'sex_M']]  \n",
    "y1 = new_df_m['G3']\n",
    "\n",
    "X2 = new_df_p[['G1', 'G2','romantic_no', 'romantic_yes', 'sex_F', 'sex_M']]  \n",
    "y2 = new_df_p['G3']\n"
   ]
  },
  {
   "cell_type": "code",
   "execution_count": 11,
   "metadata": {},
   "outputs": [],
   "source": [
    "X1_train, X1_test, y1_train, y1_test = train_test_split(X1, y1, test_size=0.2, random_state=42)\n",
    "\n",
    "X2_train, X2_test, y2_train, y2_test = train_test_split(X2, y2, test_size=0.2, random_state=42)\n",
    "\n"
   ]
  },
  {
   "cell_type": "code",
   "execution_count": 12,
   "metadata": {},
   "outputs": [
    {
     "data": {
      "text/html": [
       "<style>#sk-container-id-1 {color: black;}#sk-container-id-1 pre{padding: 0;}#sk-container-id-1 div.sk-toggleable {background-color: white;}#sk-container-id-1 label.sk-toggleable__label {cursor: pointer;display: block;width: 100%;margin-bottom: 0;padding: 0.3em;box-sizing: border-box;text-align: center;}#sk-container-id-1 label.sk-toggleable__label-arrow:before {content: \"▸\";float: left;margin-right: 0.25em;color: #696969;}#sk-container-id-1 label.sk-toggleable__label-arrow:hover:before {color: black;}#sk-container-id-1 div.sk-estimator:hover label.sk-toggleable__label-arrow:before {color: black;}#sk-container-id-1 div.sk-toggleable__content {max-height: 0;max-width: 0;overflow: hidden;text-align: left;background-color: #f0f8ff;}#sk-container-id-1 div.sk-toggleable__content pre {margin: 0.2em;color: black;border-radius: 0.25em;background-color: #f0f8ff;}#sk-container-id-1 input.sk-toggleable__control:checked~div.sk-toggleable__content {max-height: 200px;max-width: 100%;overflow: auto;}#sk-container-id-1 input.sk-toggleable__control:checked~label.sk-toggleable__label-arrow:before {content: \"▾\";}#sk-container-id-1 div.sk-estimator input.sk-toggleable__control:checked~label.sk-toggleable__label {background-color: #d4ebff;}#sk-container-id-1 div.sk-label input.sk-toggleable__control:checked~label.sk-toggleable__label {background-color: #d4ebff;}#sk-container-id-1 input.sk-hidden--visually {border: 0;clip: rect(1px 1px 1px 1px);clip: rect(1px, 1px, 1px, 1px);height: 1px;margin: -1px;overflow: hidden;padding: 0;position: absolute;width: 1px;}#sk-container-id-1 div.sk-estimator {font-family: monospace;background-color: #f0f8ff;border: 1px dotted black;border-radius: 0.25em;box-sizing: border-box;margin-bottom: 0.5em;}#sk-container-id-1 div.sk-estimator:hover {background-color: #d4ebff;}#sk-container-id-1 div.sk-parallel-item::after {content: \"\";width: 100%;border-bottom: 1px solid gray;flex-grow: 1;}#sk-container-id-1 div.sk-label:hover label.sk-toggleable__label {background-color: #d4ebff;}#sk-container-id-1 div.sk-serial::before {content: \"\";position: absolute;border-left: 1px solid gray;box-sizing: border-box;top: 0;bottom: 0;left: 50%;z-index: 0;}#sk-container-id-1 div.sk-serial {display: flex;flex-direction: column;align-items: center;background-color: white;padding-right: 0.2em;padding-left: 0.2em;position: relative;}#sk-container-id-1 div.sk-item {position: relative;z-index: 1;}#sk-container-id-1 div.sk-parallel {display: flex;align-items: stretch;justify-content: center;background-color: white;position: relative;}#sk-container-id-1 div.sk-item::before, #sk-container-id-1 div.sk-parallel-item::before {content: \"\";position: absolute;border-left: 1px solid gray;box-sizing: border-box;top: 0;bottom: 0;left: 50%;z-index: -1;}#sk-container-id-1 div.sk-parallel-item {display: flex;flex-direction: column;z-index: 1;position: relative;background-color: white;}#sk-container-id-1 div.sk-parallel-item:first-child::after {align-self: flex-end;width: 50%;}#sk-container-id-1 div.sk-parallel-item:last-child::after {align-self: flex-start;width: 50%;}#sk-container-id-1 div.sk-parallel-item:only-child::after {width: 0;}#sk-container-id-1 div.sk-dashed-wrapped {border: 1px dashed gray;margin: 0 0.4em 0.5em 0.4em;box-sizing: border-box;padding-bottom: 0.4em;background-color: white;}#sk-container-id-1 div.sk-label label {font-family: monospace;font-weight: bold;display: inline-block;line-height: 1.2em;}#sk-container-id-1 div.sk-label-container {text-align: center;}#sk-container-id-1 div.sk-container {/* jupyter's `normalize.less` sets `[hidden] { display: none; }` but bootstrap.min.css set `[hidden] { display: none !important; }` so we also need the `!important` here to be able to override the default hidden behavior on the sphinx rendered scikit-learn.org. See: https://github.com/scikit-learn/scikit-learn/issues/21755 */display: inline-block !important;position: relative;}#sk-container-id-1 div.sk-text-repr-fallback {display: none;}</style><div id=\"sk-container-id-1\" class=\"sk-top-container\"><div class=\"sk-text-repr-fallback\"><pre>LinearRegression()</pre><b>In a Jupyter environment, please rerun this cell to show the HTML representation or trust the notebook. <br />On GitHub, the HTML representation is unable to render, please try loading this page with nbviewer.org.</b></div><div class=\"sk-container\" hidden><div class=\"sk-item\"><div class=\"sk-estimator sk-toggleable\"><input class=\"sk-toggleable__control sk-hidden--visually\" id=\"sk-estimator-id-1\" type=\"checkbox\" checked><label for=\"sk-estimator-id-1\" class=\"sk-toggleable__label sk-toggleable__label-arrow\">LinearRegression</label><div class=\"sk-toggleable__content\"><pre>LinearRegression()</pre></div></div></div></div></div>"
      ],
      "text/plain": [
       "LinearRegression()"
      ]
     },
     "execution_count": 12,
     "metadata": {},
     "output_type": "execute_result"
    }
   ],
   "source": [
    "\n",
    "model1 = LinearRegression()\n",
    "model1.fit(X1_train, y1_train)\n",
    "\n",
    "model2 = LinearRegression()\n",
    "model2.fit(X2_train, y2_train)"
   ]
  },
  {
   "cell_type": "code",
   "execution_count": 13,
   "metadata": {},
   "outputs": [],
   "source": [
    "y1_pred = model1.predict(X1_test)\n",
    "y2_pred = model2.predict(X2_test)"
   ]
  },
  {
   "cell_type": "code",
   "execution_count": 14,
   "metadata": {},
   "outputs": [
    {
     "name": "stdout",
     "output_type": "stream",
     "text": [
      "Mean Squared Error for M class: 0.6888465873714983\n",
      "R-squared for M class: 0.9284988745382967\n",
      " \n",
      "Mean Squared Error for P class: 0.8733143778705178\n",
      "R-squared for P class: 0.8934420098596425\n"
     ]
    }
   ],
   "source": [
    "mse1 = mean_squared_error(y1_test, y1_pred)\n",
    "r2_1 = r2_score(y1_test, y1_pred)\n",
    "print('Mean Squared Error for M class:', mse1)\n",
    "print('R-squared for M class:', r2_1)\n",
    "\n",
    "print(\" \")\n",
    "mse2 = mean_squared_error(y2_test, y2_pred)\n",
    "r2_2 = r2_score(y2_test, y2_pred)\n",
    "print('Mean Squared Error for P class:', mse2)\n",
    "print('R-squared for P class:', r2_2)"
   ]
  },
  {
   "cell_type": "code",
   "execution_count": 15,
   "metadata": {},
   "outputs": [],
   "source": [
    "import pandas as pd\n",
    "import numpy as np\n",
    "\n",
    "import scipy.stats as stats\n",
    "import statsmodels.api as sm\n",
    "from statsmodels.formula.api import ols\n",
    "import matplotlib.pyplot as plt\n",
    "import seaborn as sns"
   ]
  },
  {
   "cell_type": "code",
   "execution_count": 16,
   "metadata": {},
   "outputs": [
    {
     "data": {
      "image/png": "[encoded data removed]",
      "text/plain": [
       "<Figure size 1000x600 with 1 Axes>"
      ]
     },
     "metadata": {},
     "output_type": "display_data"
    }
   ],
   "source": [
    "coefficients = model1.coef_\n",
    "\n",
    "# Create a DataFrame for feature names and their corresponding coefficients\n",
    "feature_names = 'G1', 'G2', 'romantic_no', 'romantic_yes', 'sex_F', 'sex_M' \n",
    "# Feature names after one-hot encoding\n",
    "coef_df = pd.DataFrame({'Feature': feature_names, 'Coefficient': coefficients})\n",
    "\n",
    "# Sort and visualize\n",
    "coef_df['Abs_Coefficient'] = coef_df['Coefficient'].abs()\n",
    "coef_df = coef_df.sort_values(by='Abs_Coefficient', ascending=False)\n",
    "plt.figure(figsize=(10, 6))\n",
    "sns.barplot(data=coef_df.head(10), x='Abs_Coefficient', y='Feature')\n",
    "plt.title('Top 10 Features in Linear Regression Model')\n",
    "plt.xlabel('Absolute Coefficient')\n",
    "plt.ylabel('Feature')\n",
    "plt.show()"
   ]
  },
  {
   "cell_type": "markdown",
   "metadata": {},
   "source": [
    "# Modeling (Charles)"
   ]
  },
  {
   "cell_type": "code",
   "execution_count": 2,
   "metadata": {},
   "outputs": [],
   "source": [
    "import pandas as pd\n",
    "import numpy as np\n",
    "\n",
    "import matplotlib.pyplot as plt\n",
    "import seaborn as sns\n",
    "\n",
    "from scipy import stats\n",
    "\n",
    "from sklearn.linear_model import LinearRegression\n",
    "from sklearn.model_selection import train_test_split\n",
    "from sklearn.metrics import mean_squared_error\n",
    "from sklearn.preprocessing import StandardScaler\n",
    "from sklearn.linear_model import Ridge, RidgeCV, Lasso\n",
    "from sklearn.metrics import r2_score"
   ]
  },
  {
   "cell_type": "code",
   "execution_count": 3,
   "metadata": {},
   "outputs": [],
   "source": [
    "# load our newly transformed dataframe\n",
    "\n",
    "df_p = pd.read_csv('../data/student-por-cleaned.csv')"
   ]
  },
  {
   "cell_type": "markdown",
   "metadata": {},
   "source": [
    "In order to proceed with our statistical analysis, we need to formulate our null and alternative hypothesis based on the topic we have been tackling. So far, we have been basing our analysis around whether or not alcoholic drinking during the weekday and weekend has an effect on student academic performance. We have also tackled the possibility of whether or not the students living together or not had an effect on the students academic perfomance.\n",
    "\n",
    "Since there was only 80 students who's parents were seperated compared to the 569 who lived together, we can get rid of that topic since we do not have enough data to determine whether or not parents living together or not would affect students academic performance.\n",
    "\n",
    "So for now, our null hypothesis for the topics we were analyzing is that there is no impact between drinking during the week and on the weekends and student academic performance. The alternative hypothesis is that there is an influence with drinking and students academic performance."
   ]
  },
  {
   "cell_type": "markdown",
   "metadata": {},
   "source": [
    "# Linear Regression Modeling"
   ]
  },
  {
   "cell_type": "code",
   "execution_count": 4,
   "metadata": {},
   "outputs": [],
   "source": [
    "# running the test and train code for the data to fit the model and prepare it for regression\n",
    "y = df_p['G3']\n",
    "x = df_p.drop('G3', axis = 1)\n",
    "\n",
    "x_train, x_test, y_train, y_test = train_test_split(x, y, test_size=0.25, random_state=68)"
   ]
  },
  {
   "cell_type": "code",
   "execution_count": 5,
   "metadata": {},
   "outputs": [
    {
     "data": {
      "text/plain": [
       "array([[-0.48990242, -0.36446897, -0.5419104 , ...,  0.54837694,\n",
       "         0.46546951, -2.56782982],\n",
       "       [-1.45247707, -0.36446897, -0.5419104 , ..., -0.88834108,\n",
       "        -0.55814217,  0.38943391],\n",
       "       [ 1.6824655 ,  1.3893124 , -0.5419104 , ..., -2.3250591 ,\n",
       "        -1.24054995,  0.38943391],\n",
       "       ...,\n",
       "       [-0.61614172, -0.36446897, -0.5419104 , ...,  0.18919743,\n",
       "         0.46546951, -2.56782982],\n",
       "       [ 0.54631182, -0.36446897, -0.5419104 , ..., -0.52916158,\n",
       "        -0.21693828,  0.38943391],\n",
       "       [ 0.94080963, -0.36446897, -0.5419104 , ...,  0.90755644,\n",
       "         0.46546951,  0.38943391]])"
      ]
     },
     "execution_count": 5,
     "metadata": {},
     "output_type": "execute_result"
    }
   ],
   "source": [
    "# scale the data for regression\n",
    "scale = StandardScaler()\n",
    "scale.fit(x_train)\n",
    "scale.transform(x_train)"
   ]
  },
  {
   "cell_type": "code",
   "execution_count": 6,
   "metadata": {},
   "outputs": [],
   "source": [
    "# fits the data to the model and then runs the linear regression to it\n",
    "model = LinearRegression()\n",
    "model.fit(x_train, y_train)\n",
    "\n",
    "y_pred = model.predict(x_test)"
   ]
  },
  {
   "cell_type": "code",
   "execution_count": 7,
   "metadata": {},
   "outputs": [
    {
     "name": "stdout",
     "output_type": "stream",
     "text": [
      "Mean Squared Error:  2.414679582266468\n",
      "R-squared: 0.7904657301172577\n"
     ]
    }
   ],
   "source": [
    "# MSE and R squared values are outputed here\n",
    "\n",
    "mse = mean_squared_error(y_test, y_pred)\n",
    "r2 = r2_score(y_test, y_pred)\n",
    "print('Mean Squared Error: ', mse)\n",
    "print('R-squared:', r2)"
   ]
  },
  {
   "cell_type": "markdown",
   "metadata": {},
   "source": [
    "# Ridge Regression Model"
   ]
  },
  {
   "cell_type": "code",
   "execution_count": 8,
   "metadata": {},
   "outputs": [
    {
     "name": "stdout",
     "output_type": "stream",
     "text": [
      "The train score for ridge model is 0.8707029447557642\n",
      "The test score for ridge model is 0.7898750588326082\n"
     ]
    }
   ],
   "source": [
    "# Ridge Regression Model\n",
    "ridgeReg = Ridge(alpha=10)\n",
    "\n",
    "ridgeReg.fit(x_train, y_train)\n",
    "\n",
    "train_score_ridge = ridgeReg.score(x_train, y_train)\n",
    "test_score_ridge = ridgeReg.score(x_test, y_test)\n",
    "\n",
    "print(\"The train score for ridge model is {}\".format(train_score_ridge))\n",
    "print(\"The test score for ridge model is {}\".format(test_score_ridge))"
   ]
  },
  {
   "cell_type": "markdown",
   "metadata": {},
   "source": [
    "# Lasso Regression Model"
   ]
  },
  {
   "cell_type": "code",
   "execution_count": 9,
   "metadata": {},
   "outputs": [
    {
     "name": "stdout",
     "output_type": "stream",
     "text": [
      "The train score for lasso model is 0.03310317955891762\n",
      "The test score for lasso model is 0.013999121222577293\n"
     ]
    }
   ],
   "source": [
    "# Lasso Regression Model\n",
    "\n",
    "lasso = Lasso(alpha=10)\n",
    "lasso.fit(x_train, y_train)\n",
    "train_score_lasso = lasso.score(x_train, y_train)\n",
    "test_score_lasso = lasso.score(x_test, y_test)\n",
    "\n",
    "print(\"The train score for lasso model is {}\".format(train_score_lasso))\n",
    "print(\"The test score for lasso model is {}\".format(test_score_lasso))"
   ]
  },
  {
   "cell_type": "markdown",
   "metadata": {},
   "source": [
    "# Overall Analysis"
   ]
  },
  {
   "cell_type": "markdown",
   "metadata": {},
   "source": [
    "According to my results, my Linear Regression Model for the portuguese class gave me a Mean Squared Error of 2.414679582266468 and an R- Squared value of 0.7904657301172577.\n",
    "\n",
    "With my Ridge Regression Model, I got a train score of 0.8707029447557642 and a test score of 0.7898750588326082.\n",
    "\n",
    "With my Lasso Regression Model, I got a train score of 0.03310317955891762 and a test score of 0.013999121222577293.\n",
    "\n",
    "So all in all my Ridge Regression Model performed better on my dataset and gave me a better result. It peanlized the coefficients by bringing them closer to 0."
   ]
  }
 ],
 "metadata": {
  "kernelspec": {
   "display_name": "phase1",
   "language": "python",
   "name": "python3"
  },
  "language_info": {
   "codemirror_mode": {
    "name": "ipython",
    "version": 3
   },
   "file_extension": ".py",
   "mimetype": "text/x-python",
   "name": "python",
   "nbconvert_exporter": "python",
   "pygments_lexer": "ipython3",
   "version": "3.9.18"
  }
 },
 "nbformat": 4,
 "nbformat_minor": 2
}
