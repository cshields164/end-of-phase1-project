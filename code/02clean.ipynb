{
 "cells": [
  {
   "cell_type": "code",
   "execution_count": 1,
   "metadata": {},
   "outputs": [],
   "source": [
    "import pandas as pd\n",
    "import numpy as np\n",
    "\n",
    "import matplotlib.pyplot as plt\n",
    "import seaborn as sns\n",
    "\n",
    "from scipy import stats"
   ]
  },
  {
   "cell_type": "code",
   "execution_count": 2,
   "metadata": {},
   "outputs": [],
   "source": [
    "# loading our dataframes\n",
    "#we will be using df_m for our sample of math class studetns and df_p for our sameple of portugees class. \n",
    "\n",
    "df_m = pd.read_csv('../data/student-mat.csv', delimiter=';')\n",
    "df_p = pd.read_csv('../data/student-por.csv', delimiter=';')"
   ]
  },
  {
   "cell_type": "code",
   "execution_count": 3,
   "metadata": {},
   "outputs": [
    {
     "name": "stdout",
     "output_type": "stream",
     "text": [
      "Cummulative grades for Math class studetns: 0      17\n",
      "1      16\n",
      "2      25\n",
      "3      44\n",
      "4      26\n",
      "       ..\n",
      "390    27\n",
      "391    46\n",
      "392    25\n",
      "393    33\n",
      "394    26\n",
      "Length: 395, dtype: int64\n",
      " \n",
      "Cummulative grades for Port class studetns: 0      22\n",
      "1      31\n",
      "2      37\n",
      "3      42\n",
      "4      37\n",
      "       ..\n",
      "644    31\n",
      "645    46\n",
      "646    32\n",
      "647    30\n",
      "648    32\n",
      "Length: 649, dtype: int64\n"
     ]
    }
   ],
   "source": [
    "sum_grades_m = df_m['G1'] + df_m['G2'] + df_m['G3']\n",
    "print(\"Cummulative grades for Math class studetns:\", sum_grades_m) \n",
    "print(\" \")\n",
    "sum_grades_p = df_p['G1'] + df_p['G2'] + df_p['G3']\n",
    "print(\"Cummulative grades for Port class studetns:\", sum_grades_p) "
   ]
  },
  {
   "cell_type": "code",
   "execution_count": null,
   "metadata": {},
   "outputs": [],
   "source": []
  }
 ],
 "metadata": {
  "kernelspec": {
   "display_name": "phase1",
   "language": "python",
   "name": "python3"
  },
  "language_info": {
   "codemirror_mode": {
    "name": "ipython",
    "version": 3
   },
   "file_extension": ".py",
   "mimetype": "text/x-python",
   "name": "python",
   "nbconvert_exporter": "python",
   "pygments_lexer": "ipython3",
   "version": "3.9.18"
  }
 },
 "nbformat": 4,
 "nbformat_minor": 2
}
