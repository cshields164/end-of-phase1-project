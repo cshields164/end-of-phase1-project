{
 "cells": [
  {
   "cell_type": "code",
   "execution_count": 14,
   "metadata": {},
   "outputs": [],
   "source": [
    "\"\"\"\n",
    "A simple linear regression model with all predictors and target variable of\n",
    "price of final grade.\n",
    "\"\"\"\n",
    "\n",
    "from sklearn.linear_model import LinearRegression\n",
    "from sklearn.model_selection import train_test_split\n",
    "from sklearn.metrics import mean_squared_error\n",
    "from sklearn.preprocessing import StandardScaler\n",
    "from sklearn.metrics import r2_score\n",
    "\n",
    "import pandas as pd"
   ]
  },
  {
   "cell_type": "code",
   "execution_count": 15,
   "metadata": {},
   "outputs": [],
   "source": [
    "portuguese = pd.read_csv(\"../../data/processed/cleaned-student-por.csv\")"
   ]
  },
  {
   "cell_type": "code",
   "execution_count": 16,
   "metadata": {},
   "outputs": [],
   "source": [
    "y = portuguese['final_grade']\n",
    "X = portuguese.drop('final_grade', axis=1)\n",
    "\n",
    "X_train, X_test, y_train, y_test = train_test_split(X, y, test_size=0.25, random_state=42)"
   ]
  },
  {
   "cell_type": "code",
   "execution_count": 17,
   "metadata": {},
   "outputs": [
    {
     "data": {
      "text/plain": [
       "array([[-0.62000093,  1.36099993,  1.60543773, ...,  0.35722571,\n",
       "         0.57576631, -0.76696499],\n",
       "       [-1.42783056, -0.43396877, -0.26117169, ...,  0.35722571,\n",
       "         0.57576631, -0.76696499],\n",
       "       [-1.42783056,  1.36099993,  1.60543773, ...,  0.35722571,\n",
       "         0.57576631, -0.76696499],\n",
       "       ...,\n",
       "       [-0.62000093,  1.36099993,  1.60543773, ...,  0.35722571,\n",
       "         0.57576631, -0.76696499],\n",
       "       [-1.42783056, -1.33145312, -1.1944764 , ...,  0.35722571,\n",
       "         0.57576631, -0.76696499],\n",
       "       [-1.42783056,  1.36099993,  1.60543773, ...,  0.35722571,\n",
       "         0.57576631, -0.76696499]])"
      ]
     },
     "execution_count": 17,
     "metadata": {},
     "output_type": "execute_result"
    }
   ],
   "source": [
    "scaler = StandardScaler()\n",
    "scaler.fit(X_train)\n",
    "scaler.transform(X_train)"
   ]
  },
  {
   "cell_type": "code",
   "execution_count": 18,
   "metadata": {},
   "outputs": [],
   "source": [
    "model = LinearRegression()\n",
    "model.fit(X_train.values, y_train)\n",
    "\n",
    "X_test = scaler.transform(X_test)\n",
    "y_pred = model.predict(X_test)"
   ]
  },
  {
   "cell_type": "code",
   "execution_count": 19,
   "metadata": {},
   "outputs": [
    {
     "data": {
      "text/plain": [
       "-11.526243920473423"
      ]
     },
     "execution_count": 19,
     "metadata": {},
     "output_type": "execute_result"
    }
   ],
   "source": [
    "r2_score(y_test, y_pred)"
   ]
  },
  {
   "cell_type": "markdown",
   "metadata": {},
   "source": [
    "Question: In the 12_08 modeling pipelines, it says \n",
    "\n",
    "scaler = MinMaxScaler() ← Initialize the MinMaxScaler object \n",
    "\n",
    "scaler.ﬁt(X_train) ← ﬁt to the training data \n",
    "\n",
    "scaler.transform(X_train) ← replace with X_test when we are testing\n",
    "\n",
    "so how can scale before we split? X_train indicates that we've already split"
   ]
  },
  {
   "cell_type": "markdown",
   "metadata": {},
   "source": []
  }
 ],
 "metadata": {
  "kernelspec": {
   "display_name": "Python 3",
   "language": "python",
   "name": "python3"
  },
  "language_info": {
   "codemirror_mode": {
    "name": "ipython",
    "version": 3
   },
   "file_extension": ".py",
   "mimetype": "text/x-python",
   "name": "python",
   "nbconvert_exporter": "python",
   "pygments_lexer": "ipython3",
   "version": "3.9.18"
  },
  "orig_nbformat": 4
 },
 "nbformat": 4,
 "nbformat_minor": 2
}
