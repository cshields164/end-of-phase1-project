{
 "cells": [
  {
   "cell_type": "code",
   "execution_count": 2,
   "metadata": {},
   "outputs": [],
   "source": [
    "import pandas as pd\n",
    "import numpy as np\n",
    "\n",
    "import matplotlib.pyplot as plt\n",
    "import seaborn as sns\n",
    "\n",
    "from scipy import stats"
   ]
  },
  {
   "cell_type": "code",
   "execution_count": 27,
   "metadata": {},
   "outputs": [],
   "source": [
    "# load our newly transformed dataframe\n",
    "df_m = pd.read_csv('../data/student-merge.R')\n",
    "df_p = pd.read_csv('../data/student-merge.R')"
   ]
  },
  {
   "cell_type": "markdown",
   "metadata": {},
   "source": [
    "# In order to proceed with our statistical analysis, we need to formulate our null and alternative hypothesis based on the topic of student performance. So far, we have been basing our analysis around whether or not free time or going out has an effect on student academic performance. However, we found that there is a effect on school support with student performace, so that is what we will try afterwards."
   ]
  },
  {
   "cell_type": "markdown",
   "metadata": {},
   "source": [
    "Since there was only a correlation for students with school support, I will focus on students with school support."
   ]
  },
  {
   "cell_type": "markdown",
   "metadata": {},
   "source": [
    "# So for now, our null hypothesis for the topics we were analyzing is that there is no impact between going out and having free time on student academic performance. The alternative hypothesis is that there is an influence going out and having free time. We will also test to see an imapct between students with school support or not with their performace. So our null hypothesis for the topics we were analyzing is that there is no impact between school support on student academic performance.The alternative hypothesis is that there is an impact between school support on student academic performance."
   ]
  },
  {
   "cell_type": "code",
   "execution_count": 28,
   "metadata": {},
   "outputs": [
    {
     "name": "stdout",
     "output_type": "stream",
     "text": [
      "Cummulative grades for Math class students: 0      22\n",
      "1      31\n",
      "2      37\n",
      "3      42\n",
      "4      37\n",
      "       ..\n",
      "644    31\n",
      "645    46\n",
      "646    32\n",
      "647    30\n",
      "648    32\n",
      "Length: 649, dtype: int64\n",
      " \n",
      "Cummulative grades for Port class students: 0      22\n",
      "1      31\n",
      "2      37\n",
      "3      42\n",
      "4      37\n",
      "       ..\n",
      "644    31\n",
      "645    46\n",
      "646    32\n",
      "647    30\n",
      "648    32\n",
      "Length: 649, dtype: int64\n",
      " \n"
     ]
    }
   ],
   "source": [
    "sum_grades_m = df_m['G1'] + df_m['G2'] + df_m['G3']\n",
    "print(\"Cummulative grades for Math class students:\", sum_grades_m) \n",
    "print(\" \")\n",
    "sum_grades_p = df_p['G1'] + df_p['G2'] + df_p['G3']\n",
    "print(\"Cummulative grades for Port class students:\", sum_grades_p)\n",
    "print(\" \")"
   ]
  },
  {
   "cell_type": "code",
   "execution_count": 29,
   "metadata": {},
   "outputs": [
    {
     "data": {
      "text/plain": [
       "TtestResult(statistic=-70.06974332790523, pvalue=0.0, df=1296.0)"
      ]
     },
     "execution_count": 29,
     "metadata": {},
     "output_type": "execute_result"
    }
   ],
   "source": [
    "stats.ttest_ind(df_m['goout'], df_m['G1'])"
   ]
  },
  {
   "cell_type": "code",
   "execution_count": 8,
   "metadata": {},
   "outputs": [
    {
     "data": {
      "text/plain": [
       "TtestResult(statistic=-67.98918854570323, pvalue=0.0, df=1296.0)"
      ]
     },
     "execution_count": 8,
     "metadata": {},
     "output_type": "execute_result"
    }
   ],
   "source": [
    "stats.ttest_ind(df_m['goout'], df_m['G2'])"
   ]
  },
  {
   "cell_type": "code",
   "execution_count": 9,
   "metadata": {},
   "outputs": [
    {
     "data": {
      "text/plain": [
       "TtestResult(statistic=-65.43120136484212, pvalue=0.0, df=1296.0)"
      ]
     },
     "execution_count": 9,
     "metadata": {},
     "output_type": "execute_result"
    }
   ],
   "source": [
    "stats.ttest_ind(df_m['freetime'], df_m['G3'])"
   ]
  },
  {
   "cell_type": "code",
   "execution_count": 10,
   "metadata": {},
   "outputs": [
    {
     "data": {
      "text/plain": [
       "TtestResult(statistic=-71.22651883930408, pvalue=0.0, df=1296.0)"
      ]
     },
     "execution_count": 10,
     "metadata": {},
     "output_type": "execute_result"
    }
   ],
   "source": [
    "stats.ttest_ind(df_m['freetime'], df_m['G1'])"
   ]
  },
  {
   "cell_type": "code",
   "execution_count": 11,
   "metadata": {},
   "outputs": [
    {
     "data": {
      "text/plain": [
       "TtestResult(statistic=-67.98918854570323, pvalue=0.0, df=1296.0)"
      ]
     },
     "execution_count": 11,
     "metadata": {},
     "output_type": "execute_result"
    }
   ],
   "source": [
    "stats.ttest_ind(df_p['goout'], df_p['G2'])"
   ]
  },
  {
   "cell_type": "code",
   "execution_count": 12,
   "metadata": {},
   "outputs": [
    {
     "data": {
      "text/plain": [
       "TtestResult(statistic=-64.6239236920473, pvalue=0.0, df=1296.0)"
      ]
     },
     "execution_count": 12,
     "metadata": {},
     "output_type": "execute_result"
    }
   ],
   "source": [
    "stats.ttest_ind(df_p['goout'], df_p['G3'])"
   ]
  },
  {
   "cell_type": "code",
   "execution_count": 16,
   "metadata": {},
   "outputs": [
    {
     "data": {
      "text/plain": [
       "TtestResult(statistic=-92.64312672818683, pvalue=0.0, df=1296.0)"
      ]
     },
     "execution_count": 16,
     "metadata": {},
     "output_type": "execute_result"
    }
   ],
   "source": [
    "stats.ttest_ind(df_p['schoolsup_yes'], df_p['G3'])"
   ]
  },
  {
   "cell_type": "code",
   "execution_count": 17,
   "metadata": {},
   "outputs": [
    {
     "data": {
      "text/plain": [
       "TtestResult(statistic=-92.64312672818683, pvalue=0.0, df=1296.0)"
      ]
     },
     "execution_count": 17,
     "metadata": {},
     "output_type": "execute_result"
    }
   ],
   "source": [
    "stats.ttest_ind(df_m['schoolsup_yes'], df_m['G3'])"
   ]
  },
  {
   "cell_type": "code",
   "execution_count": 22,
   "metadata": {},
   "outputs": [
    {
     "data": {
      "text/plain": [
       "TtestResult(statistic=-104.14226565329159, pvalue=0.0, df=1296.0)"
      ]
     },
     "execution_count": 22,
     "metadata": {},
     "output_type": "execute_result"
    }
   ],
   "source": [
    "stats.ttest_ind(df_m['schoolsup_yes'], df_m['G1'] + df_m['G2'] + df_m['G3'])"
   ]
  }
 ],
 "metadata": {
  "kernelspec": {
   "display_name": "phase1",
   "language": "python",
   "name": "python3"
  },
  "language_info": {
   "codemirror_mode": {
    "name": "ipython",
    "version": 3
   },
   "file_extension": ".py",
   "mimetype": "text/x-python",
   "name": "python",
   "nbconvert_exporter": "python",
   "pygments_lexer": "ipython3",
   "version": "3.9.18"
  }
 },
 "nbformat": 4,
 "nbformat_minor": 2
}
