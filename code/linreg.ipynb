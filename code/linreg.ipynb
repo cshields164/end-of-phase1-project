{
 "cells": [
  {
   "cell_type": "code",
   "execution_count": 1,
   "metadata": {},
   "outputs": [],
   "source": [
    "\"\"\"\n",
    "A simple linear regression model with all predictors and target variable of\n",
    "price of final grade.\n",
    "\"\"\"\n",
    "\n",
    "from sklearn.linear_model import LinearRegression\n",
    "from sklearn.model_selection import train_test_split\n",
    "from sklearn.metrics import mean_squared_error\n",
    "from sklearn.preprocessing import StandardScaler\n",
    "from sklearn.metrics import r2_score\n",
    "\n",
    "import pandas as pd"
   ]
  },
  {
   "cell_type": "code",
   "execution_count": 11,
   "metadata": {},
   "outputs": [],
   "source": [
    "df_m = pd.read_csv(\"../data/student-merge.R\")\n",
    "df_p = pd.read_csv(\"../data/student-merge.R\")"
   ]
  },
  {
   "cell_type": "markdown",
   "metadata": {},
   "source": [
    "### Scaling"
   ]
  },
  {
   "cell_type": "code",
   "execution_count": 12,
   "metadata": {},
   "outputs": [],
   "source": [
    "# scaler = StandardScaler()\n",
    "# scaler.fit(X_train)\n",
    "# scaler.transform(X_train)"
   ]
  },
  {
   "cell_type": "code",
   "execution_count": 13,
   "metadata": {},
   "outputs": [],
   "source": [
    "# dropped outliers\n",
    "df_m_drop_val = df_m.drop(df_m[(df_m['G3'] == 0) & (df_m['schoolsup_yes'] == 0)].index)"
   ]
  },
  {
   "cell_type": "code",
   "execution_count": 14,
   "metadata": {},
   "outputs": [],
   "source": [
    "# dropped outliers\n",
    "df_p_drop_val = df_p.drop(df_p[(df_p['G3'] == 0) & (df_p['schoolsup_yes'] == 0)].index)"
   ]
  },
  {
   "cell_type": "code",
   "execution_count": 16,
   "metadata": {},
   "outputs": [
    {
     "data": {
      "text/plain": [
       "Index(['age', 'Medu', 'Fedu', 'traveltime', 'studytime', 'failures', 'famrel',\n",
       "       'freetime', 'goout', 'Dalc', 'Walc', 'health', 'absences', 'G1', 'G2',\n",
       "       'G3', 'school_MS', 'sex_M', 'address_U', 'famsize_LE3', 'Pstatus_T',\n",
       "       'Mjob_health', 'Mjob_other', 'Mjob_services', 'Mjob_teacher',\n",
       "       'Fjob_health', 'Fjob_other', 'Fjob_services', 'Fjob_teacher',\n",
       "       'reason_home', 'reason_other', 'reason_reputation', 'guardian_mother',\n",
       "       'guardian_other', 'schoolsup_yes', 'famsup_yes', 'paid_yes',\n",
       "       'activities_yes', 'nursery_yes', 'higher_yes', 'internet_yes',\n",
       "       'romantic_yes'],\n",
       "      dtype='object')"
      ]
     },
     "execution_count": 16,
     "metadata": {},
     "output_type": "execute_result"
    }
   ],
   "source": [
    "df_m.columns"
   ]
  },
  {
   "cell_type": "code",
   "execution_count": 19,
   "metadata": {},
   "outputs": [],
   "source": [
    "new_df_m = df_m[['G3', 'schoolsup_yes']]\n",
    "new_df_p = df_p[['G3', 'schoolsup_yes']]"
   ]
  },
  {
   "cell_type": "code",
   "execution_count": 20,
   "metadata": {},
   "outputs": [
    {
     "name": "stdout",
     "output_type": "stream",
     "text": [
      "G3               int64\n",
      "schoolsup_yes    int64\n",
      "dtype: object\n",
      "G3               int64\n",
      "schoolsup_yes    int64\n",
      "dtype: object\n"
     ]
    }
   ],
   "source": [
    "print(new_df_m.dtypes)\n",
    "print(new_df_p.dtypes)"
   ]
  },
  {
   "cell_type": "code",
   "execution_count": 36,
   "metadata": {},
   "outputs": [],
   "source": [
    "X1 = new_df_m.drop('G3', axis=1)\n",
    "y1 = new_df_m['G3']\n",
    "\n",
    "X2 = new_df_p.drop('G3', axis=1)\n",
    "y2 = new_df_p['G3']\n",
    "\n",
    "x1_train, x1_test, y1_train, y1_test = train_test_split(X1, y1, test_size=0.25, random_state=42)\n",
    "x2_train, x2_test, y2_train, y2_test = train_test_split(X2, y2, test_size=0.25, random_state=42)"
   ]
  },
  {
   "cell_type": "markdown",
   "metadata": {},
   "source": [
    "### Model"
   ]
  },
  {
   "cell_type": "code",
   "execution_count": 37,
   "metadata": {},
   "outputs": [],
   "source": [
    "model = LinearRegression()\n",
    "model.fit(x1_train, y1_train)\n",
    "\n",
    "y1_pred = model.predict(x1_test)"
   ]
  },
  {
   "cell_type": "code",
   "execution_count": 38,
   "metadata": {},
   "outputs": [
    {
     "name": "stdout",
     "output_type": "stream",
     "text": [
      "Mean Squared Error: 10.268869434623412\n",
      "R-squared: -0.01867436306531478\n"
     ]
    }
   ],
   "source": [
    "mse = mean_squared_error(y1_test, y1_pred)\n",
    "r2 = r2_score(y1_test, y1_pred)\n",
    "print('Mean Squared Error:', mse)\n",
    "print('R-squared:', r2)\n"
   ]
  },
  {
   "cell_type": "code",
   "execution_count": 40,
   "metadata": {},
   "outputs": [],
   "source": [
    "model = LinearRegression()\n",
    "model.fit(x2_train, y2_train)\n",
    "\n",
    "y2_pred = model.predict(x2_test)"
   ]
  },
  {
   "cell_type": "code",
   "execution_count": 41,
   "metadata": {},
   "outputs": [
    {
     "name": "stdout",
     "output_type": "stream",
     "text": [
      "Mean Squared Error: 10.268869434623412\n",
      "R-squared: -0.01867436306531478\n"
     ]
    }
   ],
   "source": [
    "mse = mean_squared_error(y2_test, y2_pred)\n",
    "r2 = r2_score(y2_test, y2_pred)\n",
    "print('Mean Squared Error:', mse)\n",
    "print('R-squared:', r2)"
   ]
  }
 ],
 "metadata": {
  "kernelspec": {
   "display_name": "Python 3",
   "language": "python",
   "name": "python3"
  },
  "language_info": {
   "codemirror_mode": {
    "name": "ipython",
    "version": 3
   },
   "file_extension": ".py",
   "mimetype": "text/x-python",
   "name": "python",
   "nbconvert_exporter": "python",
   "pygments_lexer": "ipython3",
   "version": "3.9.18"
  },
  "orig_nbformat": 4
 },
 "nbformat": 4,
 "nbformat_minor": 2
}
