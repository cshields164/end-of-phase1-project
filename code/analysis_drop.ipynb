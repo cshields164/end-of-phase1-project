{
 "cells": [
  {
   "cell_type": "code",
   "execution_count": 7,
   "metadata": {},
   "outputs": [],
   "source": [
    "import pandas as pd\n",
    "import numpy as np\n",
    "\n",
    "import scipy.stats as stats\n",
    "import statsmodels.api as sm\n",
    "from statsmodels.formula.api import ols\n",
    "import matplotlib.pyplot as plt\n"
   ]
  },
  {
   "cell_type": "code",
   "execution_count": 8,
   "metadata": {},
   "outputs": [],
   "source": [
    "# loading our dataframes\n",
    "#we will be using df_m for our sample of math class studetns and df_p for our sameple of portugees class. \n",
    "\n",
    "df_m = pd.read_csv('../data/student-mat.csv', delimiter=';')\n",
    "df_p = pd.read_csv('../data/student-por.csv', delimiter=';')"
   ]
  },
  {
   "cell_type": "markdown",
   "metadata": {},
   "source": [
    "Before we start our statistical analysis, we need to determine 2 things, hypothesis (H1) and statisitcal test we can use to reject or fail to reject our null hypothesis (H0)\n",
    "\n",
    "Hypothesis: \n",
    "    The main hypothesis is to see is there any effect of being in a relationship on the final grade for the school.  \n",
    "\n",
    "Therefore: \n",
    "\n",
    "    H0: There is no main effect of relationship status on the final grades of the students.\n",
    "    H1: There is a main effect of relationship status on the final grades of the students. \n",
    "\n",
    "Note: \n",
    "    From our exploration stage, we identify 1 dependent variable (quantitative variable that we want to compare across different groups) 1 independet variables (categorical variables that define our groups)\n",
    "        Dependet variable - final grade (G3 column) \n",
    "        Independet varaible - Relationship status (singe or taken)\n",
    "\n",
    "Statistical Test: \n",
    "    The perfect statistical test in our case is One-way ANOVA\n",
    "\n",
    "Our new Hypothesis are: \n",
    "    H0: There is no main effect of relationship status on the final grades of the students.\n",
    "    H1: There is a main effect of relationship status on the final grades of the students."
   ]
  },
  {
   "cell_type": "code",
   "execution_count": 9,
   "metadata": {},
   "outputs": [],
   "source": [
    "#dropping outliners\n",
    "df_m = df_m.drop(df_m[(df_m['G3'] == 0) & (df_m['absences'] == 0)].index)\n",
    "df_p = df_p.drop(df_p[(df_p['G3'] == 0) & (df_p['absences'] == 0)].index)"
   ]
  },
  {
   "cell_type": "code",
   "execution_count": 10,
   "metadata": {},
   "outputs": [],
   "source": [
    "#For our test we need to create a model where we will specify our variables \n",
    "model_m = ols ('G2 ~ C(romantic)', data = df_m).fit()\n",
    "model_p = ols ('G3 ~ C(romantic)', data = df_p).fit()"
   ]
  },
  {
   "cell_type": "code",
   "execution_count": 11,
   "metadata": {},
   "outputs": [
    {
     "name": "stdout",
     "output_type": "stream",
     "text": [
      "One-way ANOVA TEST results for Math class:\n",
      "                df     sum_sq  mean_sq       F  PR(>F)\n",
      "C(romantic)    1.0     6.9766   6.9766  0.7038  0.4021\n",
      "Residual     355.0  3519.1298   9.9130     NaN     NaN\n",
      " \n",
      "One-way ANOVA TEST results for Portugeese class\n",
      "                df     sum_sq  mean_sq       F  PR(>F)\n",
      "C(romantic)    1.0    16.4963  16.4963  2.2812  0.1314\n",
      "Residual     632.0  4570.1677   7.2313     NaN     NaN\n"
     ]
    }
   ],
   "source": [
    "#Time to calculate and see our resutls for our two-way ANOVA TEST \n",
    "anova_m = sm.stats.anova_lm(model_m, typ=1)\n",
    "anova_p = sm.stats.anova_lm(model_p, typ=1)\n",
    "\n",
    "print('One-way ANOVA TEST results for Math class:')\n",
    "print(round(anova_m, 4))\n",
    "print(' ')\n",
    "print('One-way ANOVA TEST results for Portugeese class')\n",
    "print(round(anova_p, 4))"
   ]
  },
  {
   "cell_type": "markdown",
   "metadata": {},
   "source": [
    "Let's make sense of the results for our two-way ANOVA test\n",
    "\n",
    "For Math Class\n",
    "    Our P values are:\n",
    "        Romance and Grades: we FAIL TO REJECT the H0 because p-value is 0.4021 and our alpha score is 0.05. So p-value > a. \n",
    "            Therfoe we can conlcude: \n",
    "                There is NO main effect of relationship status on the final grades of the students. \n",
    "\n",
    "    Conclusion: There is NO main effect of relationship status on the final grades of the students in Math Class. \n",
    "\n",
    "\n",
    "For Portugeese class\n",
    "    Our P values are:\n",
    "        Romance and Grades: we FAIL TO REJECT the H0 because p-value is 0.1314 and our alpha score is 0.05. So p-value < a. \n",
    "            Therfoe we can conlcude: \n",
    "                There is NO main effect of relationship status on the final grades of the students. \n",
    "\n",
    "    Conclusion: There is NO main effect of relationship status on the final grades of the students in Portugees class. "
   ]
  }
 ],
 "metadata": {
  "kernelspec": {
   "display_name": "phase1",
   "language": "python",
   "name": "python3"
  },
  "language_info": {
   "codemirror_mode": {
    "name": "ipython",
    "version": 3
   },
   "file_extension": ".py",
   "mimetype": "text/x-python",
   "name": "python",
   "nbconvert_exporter": "python",
   "pygments_lexer": "ipython3",
   "version": "3.9.18"
  }
 },
 "nbformat": 4,
 "nbformat_minor": 2
}
