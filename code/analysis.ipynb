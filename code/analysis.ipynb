{
 "cells": [
  {
   "cell_type": "code",
   "execution_count": 107,
   "metadata": {},
   "outputs": [],
   "source": [
    "import pandas as pd\n",
    "import numpy as np\n",
    "\n",
    "import scipy.stats as stats\n",
    "import statsmodels.api as sm\n",
    "from statsmodels.formula.api import ols\n",
    "import matplotlib.pyplot as plt\n"
   ]
  },
  {
   "cell_type": "code",
   "execution_count": 108,
   "metadata": {},
   "outputs": [],
   "source": [
    "# loading our dataframes\n",
    "#we will be using df_m for our sample of math class studetns and df_p for our sameple of portugees class. \n",
    "\n",
    "df_m = pd.read_csv('../data/student-mat.csv', delimiter=';')\n",
    "df_p = pd.read_csv('../data/student-por.csv', delimiter=';')"
   ]
  },
  {
   "cell_type": "markdown",
   "metadata": {},
   "source": [
    "Before we start our statistical analysis, we need to determine 2 things, hypothesis (H1) and statisitcal test we can use to reject or fail to reject our null hypothesis (H0)\n",
    "\n",
    "Hypothesis: \n",
    "    The main hypothesis is to see is there any effect of being in a relationship on the cummulative grade for the school. For male and female students. \n",
    "\n",
    "Therefore: \n",
    "\n",
    "    H0: There is no main effect of relationship status and gender on the cumulative grades of the students.\n",
    "    H1: There is a main effect of relationship status and gender on the cumulative grades of the students. \n",
    "\n",
    "Note: \n",
    "    From our exploration stage, we identify 1 dependent variable (quantitative variable that we want to compare across different groups) 2 independet variables (categorical variables that define our groups)\n",
    "        Dependet variable - commulative grades (num values, sum of G1 G2 and G3)\n",
    "        Independet varaibles - Relationship status (singe or taken) and gender (male or female)\n",
    "\n",
    "Statistical Test: \n",
    "    The perfect statistical test in our case is Two-way ANOVA\n",
    "\n",
    "Our new Hypothesis are: \n",
    "    H0: There is no main effect of relationship status on the cumulative grades of the students.\n",
    "    H1: There is a main effect of relationship status on the cumulative grades of the students.\n",
    "    \n",
    "    H0: There is no main effect of gender on the cumulative grades of the students.\n",
    "    H1: There is a main effect of gender on the cumulative grades of the students.\n"
   ]
  },
  {
   "cell_type": "code",
   "execution_count": 109,
   "metadata": {},
   "outputs": [],
   "source": [
    "#First we need to create the sum of grades across 3 semester for each class\n",
    "sum_grades_m = df_m['G1'] + df_m['G2'] + df_m['G3']\n",
    "sum_grades_p = df_p['G1'] + df_p['G2'] + df_p['G3']"
   ]
  },
  {
   "cell_type": "code",
   "execution_count": 110,
   "metadata": {},
   "outputs": [],
   "source": [
    "#We need to add this column to our new DF for this test\n",
    "test_df_m = df_m.assign(grades = sum_grades_m)\n",
    "test_df_p = df_p.assign(grades = sum_grades_p)"
   ]
  },
  {
   "cell_type": "code",
   "execution_count": 127,
   "metadata": {},
   "outputs": [],
   "source": [
    "#For our test we need to create a model where we will specify our variables \n",
    "model_m = ols ('grades ~ C(romantic) + C(sex)', data = test_df_m).fit()\n",
    "model_p = ols ('grades ~ C(romantic) + C(sex)', data = test_df_p).fit()"
   ]
  },
  {
   "cell_type": "code",
   "execution_count": 135,
   "metadata": {},
   "outputs": [
    {
     "name": "stdout",
     "output_type": "stream",
     "text": [
      "Two-way ANOVA TEST results for Math class:\n",
      "                 sum_sq     df       F  PR(>F)\n",
      "C(romantic)    418.2249    1.0  3.4481  0.0641\n",
      "C(sex)         402.3291    1.0  3.3170  0.0693\n",
      "Residual     47546.6656  392.0     NaN     NaN\n",
      " \n",
      "Two-way ANOVA TEST results for Portugeese class\n",
      "                 sum_sq     df        F  PR(>F)\n",
      "C(romantic)    524.9707    1.0   7.4308  0.0066\n",
      "C(sex)         782.4584    1.0  11.0755  0.0009\n",
      "Residual     45638.3238  646.0      NaN     NaN\n"
     ]
    }
   ],
   "source": [
    "#Time to calculate and see our resutls for our two-way ANOVA TEST \n",
    "anova_m = sm.stats.anova_lm(model_m, typ=2)\n",
    "anova_p = sm.stats.anova_lm(model_p, typ=2)\n",
    "\n",
    "print('Two-way ANOVA TEST results for Math class:')\n",
    "print(round(anova_m, 4))\n",
    "print(' ')\n",
    "print('Two-way ANOVA TEST results for Portugeese class')\n",
    "print(round(anova_p, 4))"
   ]
  },
  {
   "cell_type": "markdown",
   "metadata": {},
   "source": [
    "Let's make sense of the results for our two-way ANOVA test\n",
    "\n",
    "For Math Class\n",
    "    Our P values are:\n",
    "        Romance and Grades: we FAIL TO REJECT the H0 because p-value is 0.0641 and our alpha score is 0.05. So p-value > a. \n",
    "            Therfoe we can conlcude: \n",
    "                There is NO main effect of relationship status on the cumulative grades of the students. \n",
    "        Gender and grades: we FAIL TO REJECT the H0 because \n",
    "        p-value is 0.0693 and our alpha score is 0.05. So p-value > a. \n",
    "            Therfoe we can conlcude: \n",
    "                There is NO main effect of gender on the cumulative grades of the students.\n",
    "    Conclusion: There is NO main effect of relationship status and gender on the cumulative grades of the students in Math Class. \n",
    "\n",
    "For Portugeese class\n",
    "    Our P values are:\n",
    "        Romance and Grades: we REJECT the H0 because p-value is 0.0066 and our alpha score is 0.05. So p-value < a. \n",
    "            Therfoe we can conlcude: \n",
    "                There is a main effect of relationship status on the cumulative grades of the students. \n",
    "        Gender and grades: we REJECT the H0 because p-value is 0.0009 and our alpha score is 0.05. So p-value < a. \n",
    "            Therfoe we can conlcude: \n",
    "                There is a main effect of gender on the cumulative grades of the students.\n",
    "    Conclusion: There is a main effect of relationship status and gender on the cumulative grades of the students in Portugees class. \n",
    "\n",
    "Next steps\n",
    "    For Math class: \n",
    "        What if see the effect of being in a relationship to the grades of studetnts after the first semester? Curriculum for math classes escalete it's difficulties after the first introductory semester. \n",
    "                H0: There is NO main effect of relationship status and gender on the cumulative grades of the students in Math class after the first semester. \n",
    "                H1: There is main effect of relationship status and gender on the cumulative grades of the students in Math class after the first semester."
   ]
  },
  {
   "cell_type": "code",
   "execution_count": 137,
   "metadata": {},
   "outputs": [],
   "source": [
    "#Step1. We need to create the sum of grades across last 2 semester for Math class\n",
    "sum_grades_m_2 = df_m['G2'] + df_m['G3']"
   ]
  },
  {
   "cell_type": "code",
   "execution_count": 138,
   "metadata": {},
   "outputs": [],
   "source": [
    "#Step2. We need to add this column to our new DF for this test\n",
    "test_df_m_2 = df_m.assign(grades = sum_grades_m_2)"
   ]
  },
  {
   "cell_type": "code",
   "execution_count": 139,
   "metadata": {},
   "outputs": [],
   "source": [
    "#Step3. For our test we need to create a model where we will specify our variables \n",
    "model_m_2 = ols ('grades ~ C(romantic) + C(sex)', data = test_df_m_2).fit()"
   ]
  },
  {
   "cell_type": "code",
   "execution_count": 140,
   "metadata": {},
   "outputs": [
    {
     "name": "stdout",
     "output_type": "stream",
     "text": [
      "Two-way ANOVA TEST results for Math class:\n",
      "                 sum_sq     df       F  PR(>F)\n",
      "C(romantic)    346.2624    1.0  5.3181  0.0216\n",
      "C(sex)         202.4059    1.0  3.1086  0.0787\n",
      "Residual     25523.3893  392.0     NaN     NaN\n"
     ]
    }
   ],
   "source": [
    "#Step4. Time to calculate and see our resutls for our two-way ANOVA TEST \n",
    "anova_m_2 = sm.stats.anova_lm(model_m_2, typ=2)\n",
    "\n",
    "\n",
    "print('Two-way ANOVA TEST results for Math class:')\n",
    "print(round(anova_m_2, 4))"
   ]
  },
  {
   "cell_type": "markdown",
   "metadata": {},
   "source": [
    "Making sense of the results: \n",
    "    For Math class:\n",
    "        After our manipulation and eliminating the G1 grades and running two-way ANOVA test we can conclude that: \n",
    "            There is a main effect of relationship status on the cumulative grades of the students. \n",
    "                Because: p-value for relationship between romance status and grades is 0.0215, and our alpha score is 0.05. \n",
    "                    p-value < a\n",
    "                        therefore we REJECT the H0 \n",
    "            There is NO main effect of gender on the cumulative grades of the student. \n",
    "                Because: p-value for relationship between romance status and grades is 0.0787, and our alpha score is 0.05. \n",
    "                    p-value >  a\n",
    "                        therefore we FAIL to REJECT the H0 \n",
    "    Conclusion: \n",
    "        There is a main effect of relationship status on the cumulative grades of the students in Math class after the first semester. \n",
    "            "
   ]
  }
 ],
 "metadata": {
  "kernelspec": {
   "display_name": "phase1",
   "language": "python",
   "name": "python3"
  },
  "language_info": {
   "codemirror_mode": {
    "name": "ipython",
    "version": 3
   },
   "file_extension": ".py",
   "mimetype": "text/x-python",
   "name": "python",
   "nbconvert_exporter": "python",
   "pygments_lexer": "ipython3",
   "version": "3.9.18"
  }
 },
 "nbformat": 4,
 "nbformat_minor": 2
}
